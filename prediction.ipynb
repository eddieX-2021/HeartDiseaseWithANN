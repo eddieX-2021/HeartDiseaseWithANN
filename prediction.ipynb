{
 "cells": [
  {
   "cell_type": "code",
   "execution_count": 8,
   "id": "d685a51a",
   "metadata": {},
   "outputs": [],
   "source": [
    "import tensorflow as tf\n",
    "from tensorflow.keras.models import load_model\n",
    "import pickle\n",
    "import numpy as np\n",
    "import pandas as pd"
   ]
  },
  {
   "cell_type": "code",
   "execution_count": 9,
   "id": "0824f9ba",
   "metadata": {},
   "outputs": [],
   "source": [
    "##load train model\n",
    "model = load_model('heart_model.h5')\n",
    "\n",
    "##load scaler\n",
    "with open('scaler.pkl', 'rb') as file:\n",
    "    scaler = pickle.load(file)\n",
    "with open('preprocessor.pkl', 'rb') as file:\n",
    "    preprocessor = pickle.load(file)"
   ]
  },
  {
   "cell_type": "code",
   "execution_count": 10,
   "id": "aac827a8",
   "metadata": {},
   "outputs": [],
   "source": [
    "input_data = {\n",
    "    'BMI': 16.6,\n",
    "    'Smoking': 'Yes',\n",
    "    'AlcoholDrinking': 'No',\n",
    "    'Stroke': 'No',\n",
    "    'PhysicalHealth': 3.0,\n",
    "    'MentalHealth': 30.0,\n",
    "    'DiffWalking': 'No',\n",
    "    'Sex': 'Female',\n",
    "    'AgeCategory': '55-59',\n",
    "    'Race': 'White',\n",
    "    'Diabetic': 'Yes',\n",
    "    'PhysicalActivity': 'Yes',\n",
    "    'GenHealth': 'Very good',\n",
    "    'SleepTime': 5.0,\n",
    "    'Asthma': 'Yes',\n",
    "    'KidneyDisease': 'No',\n",
    "    'SkinCancer': 'Yes'\n",
    "}"
   ]
  },
  {
   "cell_type": "code",
   "execution_count": 11,
   "id": "271c61a7",
   "metadata": {},
   "outputs": [],
   "source": [
    "input_df = pd.DataFrame([input_data])\n",
    "\n",
    "binary_cols = [\"Smoking\", \"AlcoholDrinking\", \"Stroke\", \"DiffWalking\", \n",
    "               \"Asthma\", \"KidneyDisease\", \"SkinCancer\"]\n",
    "input_df[binary_cols] = input_df[binary_cols].apply(lambda x: x.map({\"Yes\": 1, \"No\": 0}))\n",
    "try:\n",
    "    encoded_input = preprocessor.transform(input_df)\n",
    "    scaled_input = scaler.transform(encoded_input)\n",
    "    \n",
    "except Exception as e:\n",
    "    print(f\"Error during preprocessing: {str(e)}\")"
   ]
  },
  {
   "cell_type": "code",
   "execution_count": 12,
   "id": "57771bfb",
   "metadata": {},
   "outputs": [
    {
     "name": "stdout",
     "output_type": "stream",
     "text": [
      "1/1 [==============================] - 0s 63ms/step\n",
      "Heart Disease Prediction: Negative (0.11)\n"
     ]
    }
   ],
   "source": [
    "prediction = model.predict(scaled_input)\n",
    "print(f\"Heart Disease Prediction: {'Positive' if prediction > 0.5 else 'Negative'} ({prediction[0][0]:.2f})\")"
   ]
  },
  {
   "cell_type": "code",
   "execution_count": null,
   "id": "7b4cb28b",
   "metadata": {},
   "outputs": [],
   "source": []
  }
 ],
 "metadata": {
  "kernelspec": {
   "display_name": "Python 3",
   "language": "python",
   "name": "python3"
  },
  "language_info": {
   "codemirror_mode": {
    "name": "ipython",
    "version": 3
   },
   "file_extension": ".py",
   "mimetype": "text/x-python",
   "name": "python",
   "nbconvert_exporter": "python",
   "pygments_lexer": "ipython3",
   "version": "3.11.0"
  }
 },
 "nbformat": 4,
 "nbformat_minor": 5
}
